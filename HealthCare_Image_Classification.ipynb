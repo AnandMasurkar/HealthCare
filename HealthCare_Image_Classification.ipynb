{
  "nbformat": 4,
  "nbformat_minor": 0,
  "metadata": {
    "colab": {
      "name": "HealthCare Image Classification.ipynb",
      "provenance": [],
      "collapsed_sections": [],
      "include_colab_link": true
    },
    "kernelspec": {
      "name": "python3",
      "display_name": "Python 3"
    }
  },
  "cells": [
    {
      "cell_type": "markdown",
      "metadata": {
        "id": "view-in-github",
        "colab_type": "text"
      },
      "source": [
        "<a href=\"https://colab.research.google.com/github/AnandMasurkar/HealthCare/blob/master/HealthCare_Image_Classification.ipynb\" target=\"_parent\"><img src=\"https://colab.research.google.com/assets/colab-badge.svg\" alt=\"Open In Colab\"/></a>"
      ]
    },
    {
      "cell_type": "markdown",
      "metadata": {
        "id": "vfoOg7aOTrG_",
        "colab_type": "text"
      },
      "source": [
        "# Healthcare Chest X-RAY Image Classification Using Pretrained Model"
      ]
    },
    {
      "cell_type": "markdown",
      "metadata": {
        "id": "HT0ms2wkdjw_",
        "colab_type": "text"
      },
      "source": [
        "## Import Required Libraraies"
      ]
    },
    {
      "cell_type": "code",
      "metadata": {
        "id": "Nsamh_3fdmS2",
        "colab_type": "code",
        "outputId": "ffd08a71-6d6d-4cb1-ac18-bb0a8b858f37",
        "colab": {
          "base_uri": "https://localhost:8080/",
          "height": 34
        }
      },
      "source": [
        "import pandas as pd\n",
        "import cv2\n",
        "import glob\n",
        "import matplotlib.pyplot as plt\n",
        "import imageio\n",
        "import os\n",
        "import csv\n",
        "import pandas as pd\n",
        "import numpy as np\n",
        "import matplotlib.pyplot as plt\n",
        "import seaborn as sns\n",
        "from sklearn.model_selection import train_test_split\n",
        "import keras\n",
        "from keras.callbacks import EarlyStopping\n",
        "from keras.layers import Dense, Dropout\n",
        "from keras import regularizers\n",
        "import warnings\n",
        "warnings.filterwarnings('ignore')"
      ],
      "execution_count": 0,
      "outputs": [
        {
          "output_type": "stream",
          "text": [
            "Using TensorFlow backend.\n"
          ],
          "name": "stderr"
        }
      ]
    },
    {
      "cell_type": "markdown",
      "metadata": {
        "id": "3g06dFh8eJq4",
        "colab_type": "text"
      },
      "source": [
        "## Mounting Drive to load data"
      ]
    },
    {
      "cell_type": "code",
      "metadata": {
        "id": "3DgMibseeJOX",
        "colab_type": "code",
        "outputId": "cd2c64e7-5953-4695-cf16-fa11823c6dd3",
        "colab": {
          "base_uri": "https://localhost:8080/",
          "height": 139
        }
      },
      "source": [
        "from google.colab import drive\n",
        "drive.mount('/gdrive')\n",
        "%cd /gdrive"
      ],
      "execution_count": 0,
      "outputs": [
        {
          "output_type": "stream",
          "text": [
            "Go to this URL in a browser: https://accounts.google.com/o/oauth2/auth?client_id=947318989803-6bn6qk8qdgf4n4g3pfee6491hc0brc4i.apps.googleusercontent.com&redirect_uri=urn%3Aietf%3Awg%3Aoauth%3A2.0%3Aoob&scope=email%20https%3A%2F%2Fwww.googleapis.com%2Fauth%2Fdocs.test%20https%3A%2F%2Fwww.googleapis.com%2Fauth%2Fdrive%20https%3A%2F%2Fwww.googleapis.com%2Fauth%2Fdrive.photos.readonly%20https%3A%2F%2Fwww.googleapis.com%2Fauth%2Fpeopleapi.readonly&response_type=code\n",
            "\n",
            "Enter your authorization code:\n",
            "··········\n",
            "Mounted at /gdrive\n",
            "/gdrive\n"
          ],
          "name": "stdout"
        }
      ]
    },
    {
      "cell_type": "markdown",
      "metadata": {
        "id": "r0BIRgswdubL",
        "colab_type": "text"
      },
      "source": [
        "## Load Images Dataset "
      ]
    },
    {
      "cell_type": "markdown",
      "metadata": {
        "id": "KJtLcNmCd13A",
        "colab_type": "text"
      },
      "source": [
        "### Training Datatset"
      ]
    },
    {
      "cell_type": "code",
      "metadata": {
        "id": "5yBgoM3Cd1FE",
        "colab_type": "code",
        "colab": {}
      },
      "source": [
        "file_path = glob.glob(\"/gdrive/My Drive/chest_xray/train/NORMAL/*jpeg\")\n",
        "train_df= pd.DataFrame(file_path[:10000],columns =['link'])"
      ],
      "execution_count": 0,
      "outputs": []
    },
    {
      "cell_type": "code",
      "metadata": {
        "id": "kA0v_NyTnb5a",
        "colab_type": "code",
        "colab": {}
      },
      "source": [
        "file_path1 = glob.glob(\"/gdrive/My Drive/chest_xray/train/PNEUMONIA/*jpeg\")\n",
        "train_df1= pd.DataFrame(file_path1[:10000],columns =['link'])"
      ],
      "execution_count": 0,
      "outputs": []
    },
    {
      "cell_type": "code",
      "metadata": {
        "id": "1BIA8O9jmXOa",
        "colab_type": "code",
        "outputId": "8d0581b7-b435-4a8e-d226-65d90f8cb2b5",
        "colab": {
          "base_uri": "https://localhost:8080/",
          "height": 204
        }
      },
      "source": [
        "train_df.head()"
      ],
      "execution_count": 0,
      "outputs": [
        {
          "output_type": "execute_result",
          "data": {
            "text/html": [
              "<div>\n",
              "<style scoped>\n",
              "    .dataframe tbody tr th:only-of-type {\n",
              "        vertical-align: middle;\n",
              "    }\n",
              "\n",
              "    .dataframe tbody tr th {\n",
              "        vertical-align: top;\n",
              "    }\n",
              "\n",
              "    .dataframe thead th {\n",
              "        text-align: right;\n",
              "    }\n",
              "</style>\n",
              "<table border=\"1\" class=\"dataframe\">\n",
              "  <thead>\n",
              "    <tr style=\"text-align: right;\">\n",
              "      <th></th>\n",
              "      <th>link</th>\n",
              "    </tr>\n",
              "  </thead>\n",
              "  <tbody>\n",
              "    <tr>\n",
              "      <th>0</th>\n",
              "      <td>/gdrive/My Drive/chest_xray/train/NORMAL/IM-04...</td>\n",
              "    </tr>\n",
              "    <tr>\n",
              "      <th>1</th>\n",
              "      <td>/gdrive/My Drive/chest_xray/train/NORMAL/NORMA...</td>\n",
              "    </tr>\n",
              "    <tr>\n",
              "      <th>2</th>\n",
              "      <td>/gdrive/My Drive/chest_xray/train/NORMAL/NORMA...</td>\n",
              "    </tr>\n",
              "    <tr>\n",
              "      <th>3</th>\n",
              "      <td>/gdrive/My Drive/chest_xray/train/NORMAL/NORMA...</td>\n",
              "    </tr>\n",
              "    <tr>\n",
              "      <th>4</th>\n",
              "      <td>/gdrive/My Drive/chest_xray/train/NORMAL/NORMA...</td>\n",
              "    </tr>\n",
              "  </tbody>\n",
              "</table>\n",
              "</div>"
            ],
            "text/plain": [
              "                                                link\n",
              "0  /gdrive/My Drive/chest_xray/train/NORMAL/IM-04...\n",
              "1  /gdrive/My Drive/chest_xray/train/NORMAL/NORMA...\n",
              "2  /gdrive/My Drive/chest_xray/train/NORMAL/NORMA...\n",
              "3  /gdrive/My Drive/chest_xray/train/NORMAL/NORMA...\n",
              "4  /gdrive/My Drive/chest_xray/train/NORMAL/NORMA..."
            ]
          },
          "metadata": {
            "tags": []
          },
          "execution_count": 5
        }
      ]
    },
    {
      "cell_type": "code",
      "metadata": {
        "id": "nvxt0Snznoc1",
        "colab_type": "code",
        "outputId": "a2c4884d-e79b-419c-be5d-074089ce9228",
        "colab": {
          "base_uri": "https://localhost:8080/",
          "height": 204
        }
      },
      "source": [
        "train_df1.head()"
      ],
      "execution_count": 0,
      "outputs": [
        {
          "output_type": "execute_result",
          "data": {
            "text/html": [
              "<div>\n",
              "<style scoped>\n",
              "    .dataframe tbody tr th:only-of-type {\n",
              "        vertical-align: middle;\n",
              "    }\n",
              "\n",
              "    .dataframe tbody tr th {\n",
              "        vertical-align: top;\n",
              "    }\n",
              "\n",
              "    .dataframe thead th {\n",
              "        text-align: right;\n",
              "    }\n",
              "</style>\n",
              "<table border=\"1\" class=\"dataframe\">\n",
              "  <thead>\n",
              "    <tr style=\"text-align: right;\">\n",
              "      <th></th>\n",
              "      <th>link</th>\n",
              "    </tr>\n",
              "  </thead>\n",
              "  <tbody>\n",
              "    <tr>\n",
              "      <th>0</th>\n",
              "      <td>/gdrive/My Drive/chest_xray/train/PNEUMONIA/pe...</td>\n",
              "    </tr>\n",
              "    <tr>\n",
              "      <th>1</th>\n",
              "      <td>/gdrive/My Drive/chest_xray/train/PNEUMONIA/pe...</td>\n",
              "    </tr>\n",
              "    <tr>\n",
              "      <th>2</th>\n",
              "      <td>/gdrive/My Drive/chest_xray/train/PNEUMONIA/pe...</td>\n",
              "    </tr>\n",
              "    <tr>\n",
              "      <th>3</th>\n",
              "      <td>/gdrive/My Drive/chest_xray/train/PNEUMONIA/pe...</td>\n",
              "    </tr>\n",
              "    <tr>\n",
              "      <th>4</th>\n",
              "      <td>/gdrive/My Drive/chest_xray/train/PNEUMONIA/pe...</td>\n",
              "    </tr>\n",
              "  </tbody>\n",
              "</table>\n",
              "</div>"
            ],
            "text/plain": [
              "                                                link\n",
              "0  /gdrive/My Drive/chest_xray/train/PNEUMONIA/pe...\n",
              "1  /gdrive/My Drive/chest_xray/train/PNEUMONIA/pe...\n",
              "2  /gdrive/My Drive/chest_xray/train/PNEUMONIA/pe...\n",
              "3  /gdrive/My Drive/chest_xray/train/PNEUMONIA/pe...\n",
              "4  /gdrive/My Drive/chest_xray/train/PNEUMONIA/pe..."
            ]
          },
          "metadata": {
            "tags": []
          },
          "execution_count": 6
        }
      ]
    },
    {
      "cell_type": "code",
      "metadata": {
        "id": "beQ2d-jAnOdG",
        "colab_type": "code",
        "colab": {}
      },
      "source": [
        "train_df['Label'] = 'Normal'\n",
        "train_df1['Label'] = 'Pneumonia'"
      ],
      "execution_count": 0,
      "outputs": []
    },
    {
      "cell_type": "code",
      "metadata": {
        "id": "1c-KIPn4nUtN",
        "colab_type": "code",
        "outputId": "7c8431ad-fd44-48c7-9932-eab65e3459a7",
        "colab": {
          "base_uri": "https://localhost:8080/",
          "height": 204
        }
      },
      "source": [
        "train_df.head()"
      ],
      "execution_count": 0,
      "outputs": [
        {
          "output_type": "execute_result",
          "data": {
            "text/html": [
              "<div>\n",
              "<style scoped>\n",
              "    .dataframe tbody tr th:only-of-type {\n",
              "        vertical-align: middle;\n",
              "    }\n",
              "\n",
              "    .dataframe tbody tr th {\n",
              "        vertical-align: top;\n",
              "    }\n",
              "\n",
              "    .dataframe thead th {\n",
              "        text-align: right;\n",
              "    }\n",
              "</style>\n",
              "<table border=\"1\" class=\"dataframe\">\n",
              "  <thead>\n",
              "    <tr style=\"text-align: right;\">\n",
              "      <th></th>\n",
              "      <th>link</th>\n",
              "      <th>Label</th>\n",
              "    </tr>\n",
              "  </thead>\n",
              "  <tbody>\n",
              "    <tr>\n",
              "      <th>0</th>\n",
              "      <td>/gdrive/My Drive/chest_xray/train/NORMAL/IM-04...</td>\n",
              "      <td>Normal</td>\n",
              "    </tr>\n",
              "    <tr>\n",
              "      <th>1</th>\n",
              "      <td>/gdrive/My Drive/chest_xray/train/NORMAL/NORMA...</td>\n",
              "      <td>Normal</td>\n",
              "    </tr>\n",
              "    <tr>\n",
              "      <th>2</th>\n",
              "      <td>/gdrive/My Drive/chest_xray/train/NORMAL/NORMA...</td>\n",
              "      <td>Normal</td>\n",
              "    </tr>\n",
              "    <tr>\n",
              "      <th>3</th>\n",
              "      <td>/gdrive/My Drive/chest_xray/train/NORMAL/NORMA...</td>\n",
              "      <td>Normal</td>\n",
              "    </tr>\n",
              "    <tr>\n",
              "      <th>4</th>\n",
              "      <td>/gdrive/My Drive/chest_xray/train/NORMAL/NORMA...</td>\n",
              "      <td>Normal</td>\n",
              "    </tr>\n",
              "  </tbody>\n",
              "</table>\n",
              "</div>"
            ],
            "text/plain": [
              "                                                link   Label\n",
              "0  /gdrive/My Drive/chest_xray/train/NORMAL/IM-04...  Normal\n",
              "1  /gdrive/My Drive/chest_xray/train/NORMAL/NORMA...  Normal\n",
              "2  /gdrive/My Drive/chest_xray/train/NORMAL/NORMA...  Normal\n",
              "3  /gdrive/My Drive/chest_xray/train/NORMAL/NORMA...  Normal\n",
              "4  /gdrive/My Drive/chest_xray/train/NORMAL/NORMA...  Normal"
            ]
          },
          "metadata": {
            "tags": []
          },
          "execution_count": 8
        }
      ]
    },
    {
      "cell_type": "code",
      "metadata": {
        "id": "gW9mlFJNoDkH",
        "colab_type": "code",
        "outputId": "3aa79740-0f9e-46c1-854b-8337c89d4b52",
        "colab": {
          "base_uri": "https://localhost:8080/",
          "height": 34
        }
      },
      "source": [
        "train_df.shape"
      ],
      "execution_count": 0,
      "outputs": [
        {
          "output_type": "execute_result",
          "data": {
            "text/plain": [
              "(1341, 2)"
            ]
          },
          "metadata": {
            "tags": []
          },
          "execution_count": 9
        }
      ]
    },
    {
      "cell_type": "code",
      "metadata": {
        "id": "QuiHcnQ_nyDX",
        "colab_type": "code",
        "outputId": "0280ae39-4927-4c30-a8ae-8bbd02d5f7dc",
        "colab": {
          "base_uri": "https://localhost:8080/",
          "height": 204
        }
      },
      "source": [
        "train_df1.head()"
      ],
      "execution_count": 0,
      "outputs": [
        {
          "output_type": "execute_result",
          "data": {
            "text/html": [
              "<div>\n",
              "<style scoped>\n",
              "    .dataframe tbody tr th:only-of-type {\n",
              "        vertical-align: middle;\n",
              "    }\n",
              "\n",
              "    .dataframe tbody tr th {\n",
              "        vertical-align: top;\n",
              "    }\n",
              "\n",
              "    .dataframe thead th {\n",
              "        text-align: right;\n",
              "    }\n",
              "</style>\n",
              "<table border=\"1\" class=\"dataframe\">\n",
              "  <thead>\n",
              "    <tr style=\"text-align: right;\">\n",
              "      <th></th>\n",
              "      <th>link</th>\n",
              "      <th>Label</th>\n",
              "    </tr>\n",
              "  </thead>\n",
              "  <tbody>\n",
              "    <tr>\n",
              "      <th>0</th>\n",
              "      <td>/gdrive/My Drive/chest_xray/train/PNEUMONIA/pe...</td>\n",
              "      <td>Pneumonia</td>\n",
              "    </tr>\n",
              "    <tr>\n",
              "      <th>1</th>\n",
              "      <td>/gdrive/My Drive/chest_xray/train/PNEUMONIA/pe...</td>\n",
              "      <td>Pneumonia</td>\n",
              "    </tr>\n",
              "    <tr>\n",
              "      <th>2</th>\n",
              "      <td>/gdrive/My Drive/chest_xray/train/PNEUMONIA/pe...</td>\n",
              "      <td>Pneumonia</td>\n",
              "    </tr>\n",
              "    <tr>\n",
              "      <th>3</th>\n",
              "      <td>/gdrive/My Drive/chest_xray/train/PNEUMONIA/pe...</td>\n",
              "      <td>Pneumonia</td>\n",
              "    </tr>\n",
              "    <tr>\n",
              "      <th>4</th>\n",
              "      <td>/gdrive/My Drive/chest_xray/train/PNEUMONIA/pe...</td>\n",
              "      <td>Pneumonia</td>\n",
              "    </tr>\n",
              "  </tbody>\n",
              "</table>\n",
              "</div>"
            ],
            "text/plain": [
              "                                                link      Label\n",
              "0  /gdrive/My Drive/chest_xray/train/PNEUMONIA/pe...  Pneumonia\n",
              "1  /gdrive/My Drive/chest_xray/train/PNEUMONIA/pe...  Pneumonia\n",
              "2  /gdrive/My Drive/chest_xray/train/PNEUMONIA/pe...  Pneumonia\n",
              "3  /gdrive/My Drive/chest_xray/train/PNEUMONIA/pe...  Pneumonia\n",
              "4  /gdrive/My Drive/chest_xray/train/PNEUMONIA/pe...  Pneumonia"
            ]
          },
          "metadata": {
            "tags": []
          },
          "execution_count": 10
        }
      ]
    },
    {
      "cell_type": "code",
      "metadata": {
        "id": "-fjynaZKoGKJ",
        "colab_type": "code",
        "outputId": "20cf88cd-2441-4795-bf39-5a21fd65b04d",
        "colab": {
          "base_uri": "https://localhost:8080/",
          "height": 34
        }
      },
      "source": [
        "train_df1.shape"
      ],
      "execution_count": 0,
      "outputs": [
        {
          "output_type": "execute_result",
          "data": {
            "text/plain": [
              "(3875, 2)"
            ]
          },
          "metadata": {
            "tags": []
          },
          "execution_count": 11
        }
      ]
    },
    {
      "cell_type": "markdown",
      "metadata": {
        "id": "RUBSSSuJoKuP",
        "colab_type": "text"
      },
      "source": [
        "### Concat two dataframes "
      ]
    },
    {
      "cell_type": "code",
      "metadata": {
        "id": "0V1l2N6On1-0",
        "colab_type": "code",
        "colab": {}
      },
      "source": [
        "training_df = pd.concat([train_df,train_df1],axis=0)"
      ],
      "execution_count": 0,
      "outputs": []
    },
    {
      "cell_type": "code",
      "metadata": {
        "id": "ilswNIogn_lO",
        "colab_type": "code",
        "outputId": "7f4463c6-a3a4-40a2-fa94-8a49c26d3cb8",
        "colab": {
          "base_uri": "https://localhost:8080/",
          "height": 34
        }
      },
      "source": [
        "training_df.shape"
      ],
      "execution_count": 0,
      "outputs": [
        {
          "output_type": "execute_result",
          "data": {
            "text/plain": [
              "(5216, 2)"
            ]
          },
          "metadata": {
            "tags": []
          },
          "execution_count": 13
        }
      ]
    },
    {
      "cell_type": "markdown",
      "metadata": {
        "id": "svc3AnNXoWCC",
        "colab_type": "text"
      },
      "source": [
        "### Shuffle the dataframe"
      ]
    },
    {
      "cell_type": "code",
      "metadata": {
        "id": "33nxNGHIoTqE",
        "colab_type": "code",
        "outputId": "3d676c58-a449-495d-84a2-9bb6709745f9",
        "colab": {
          "base_uri": "https://localhost:8080/",
          "height": 204
        }
      },
      "source": [
        "training_df = training_df.sample(frac=1).reset_index(drop=True)\n",
        "training_df.head()"
      ],
      "execution_count": 0,
      "outputs": [
        {
          "output_type": "execute_result",
          "data": {
            "text/html": [
              "<div>\n",
              "<style scoped>\n",
              "    .dataframe tbody tr th:only-of-type {\n",
              "        vertical-align: middle;\n",
              "    }\n",
              "\n",
              "    .dataframe tbody tr th {\n",
              "        vertical-align: top;\n",
              "    }\n",
              "\n",
              "    .dataframe thead th {\n",
              "        text-align: right;\n",
              "    }\n",
              "</style>\n",
              "<table border=\"1\" class=\"dataframe\">\n",
              "  <thead>\n",
              "    <tr style=\"text-align: right;\">\n",
              "      <th></th>\n",
              "      <th>link</th>\n",
              "      <th>Label</th>\n",
              "    </tr>\n",
              "  </thead>\n",
              "  <tbody>\n",
              "    <tr>\n",
              "      <th>0</th>\n",
              "      <td>/gdrive/My Drive/chest_xray/train/PNEUMONIA/pe...</td>\n",
              "      <td>Pneumonia</td>\n",
              "    </tr>\n",
              "    <tr>\n",
              "      <th>1</th>\n",
              "      <td>/gdrive/My Drive/chest_xray/train/PNEUMONIA/pe...</td>\n",
              "      <td>Pneumonia</td>\n",
              "    </tr>\n",
              "    <tr>\n",
              "      <th>2</th>\n",
              "      <td>/gdrive/My Drive/chest_xray/train/PNEUMONIA/pe...</td>\n",
              "      <td>Pneumonia</td>\n",
              "    </tr>\n",
              "    <tr>\n",
              "      <th>3</th>\n",
              "      <td>/gdrive/My Drive/chest_xray/train/PNEUMONIA/pe...</td>\n",
              "      <td>Pneumonia</td>\n",
              "    </tr>\n",
              "    <tr>\n",
              "      <th>4</th>\n",
              "      <td>/gdrive/My Drive/chest_xray/train/PNEUMONIA/pe...</td>\n",
              "      <td>Pneumonia</td>\n",
              "    </tr>\n",
              "  </tbody>\n",
              "</table>\n",
              "</div>"
            ],
            "text/plain": [
              "                                                link      Label\n",
              "0  /gdrive/My Drive/chest_xray/train/PNEUMONIA/pe...  Pneumonia\n",
              "1  /gdrive/My Drive/chest_xray/train/PNEUMONIA/pe...  Pneumonia\n",
              "2  /gdrive/My Drive/chest_xray/train/PNEUMONIA/pe...  Pneumonia\n",
              "3  /gdrive/My Drive/chest_xray/train/PNEUMONIA/pe...  Pneumonia\n",
              "4  /gdrive/My Drive/chest_xray/train/PNEUMONIA/pe...  Pneumonia"
            ]
          },
          "metadata": {
            "tags": []
          },
          "execution_count": 14
        }
      ]
    },
    {
      "cell_type": "markdown",
      "metadata": {
        "id": "2t5DqzOhd5Lo",
        "colab_type": "text"
      },
      "source": [
        "### Testing Datatset"
      ]
    },
    {
      "cell_type": "code",
      "metadata": {
        "colab_type": "code",
        "id": "rCvy11JxozyF",
        "colab": {}
      },
      "source": [
        "file_path = glob.glob(\"/gdrive/My Drive/chest_xray/test/NORMAL/*jpeg\")\n",
        "test_df= pd.DataFrame(file_path[:10000],columns =['link'])"
      ],
      "execution_count": 0,
      "outputs": []
    },
    {
      "cell_type": "code",
      "metadata": {
        "colab_type": "code",
        "id": "eaA7CkqgozyM",
        "colab": {}
      },
      "source": [
        "file_path1 = glob.glob(\"/gdrive/My Drive/chest_xray/test/PNEUMONIA/*jpeg\")\n",
        "test_df1= pd.DataFrame(file_path1[:10000],columns =['link'])"
      ],
      "execution_count": 0,
      "outputs": []
    },
    {
      "cell_type": "code",
      "metadata": {
        "colab_type": "code",
        "outputId": "d4119060-fd90-46ce-f0cd-cdf2bb27339f",
        "id": "UANpOMTAozyP",
        "colab": {
          "base_uri": "https://localhost:8080/",
          "height": 204
        }
      },
      "source": [
        "test_df.head()"
      ],
      "execution_count": 0,
      "outputs": [
        {
          "output_type": "execute_result",
          "data": {
            "text/html": [
              "<div>\n",
              "<style scoped>\n",
              "    .dataframe tbody tr th:only-of-type {\n",
              "        vertical-align: middle;\n",
              "    }\n",
              "\n",
              "    .dataframe tbody tr th {\n",
              "        vertical-align: top;\n",
              "    }\n",
              "\n",
              "    .dataframe thead th {\n",
              "        text-align: right;\n",
              "    }\n",
              "</style>\n",
              "<table border=\"1\" class=\"dataframe\">\n",
              "  <thead>\n",
              "    <tr style=\"text-align: right;\">\n",
              "      <th></th>\n",
              "      <th>link</th>\n",
              "    </tr>\n",
              "  </thead>\n",
              "  <tbody>\n",
              "    <tr>\n",
              "      <th>0</th>\n",
              "      <td>/gdrive/My Drive/chest_xray/test/NORMAL/IM-003...</td>\n",
              "    </tr>\n",
              "    <tr>\n",
              "      <th>1</th>\n",
              "      <td>/gdrive/My Drive/chest_xray/test/NORMAL/NORMAL...</td>\n",
              "    </tr>\n",
              "    <tr>\n",
              "      <th>2</th>\n",
              "      <td>/gdrive/My Drive/chest_xray/test/NORMAL/NORMAL...</td>\n",
              "    </tr>\n",
              "    <tr>\n",
              "      <th>3</th>\n",
              "      <td>/gdrive/My Drive/chest_xray/test/NORMAL/NORMAL...</td>\n",
              "    </tr>\n",
              "    <tr>\n",
              "      <th>4</th>\n",
              "      <td>/gdrive/My Drive/chest_xray/test/NORMAL/NORMAL...</td>\n",
              "    </tr>\n",
              "  </tbody>\n",
              "</table>\n",
              "</div>"
            ],
            "text/plain": [
              "                                                link\n",
              "0  /gdrive/My Drive/chest_xray/test/NORMAL/IM-003...\n",
              "1  /gdrive/My Drive/chest_xray/test/NORMAL/NORMAL...\n",
              "2  /gdrive/My Drive/chest_xray/test/NORMAL/NORMAL...\n",
              "3  /gdrive/My Drive/chest_xray/test/NORMAL/NORMAL...\n",
              "4  /gdrive/My Drive/chest_xray/test/NORMAL/NORMAL..."
            ]
          },
          "metadata": {
            "tags": []
          },
          "execution_count": 17
        }
      ]
    },
    {
      "cell_type": "code",
      "metadata": {
        "colab_type": "code",
        "outputId": "b47f3ffc-2ae5-49fd-86e9-e4321c5400cd",
        "id": "t2lqeOpVozyS",
        "colab": {
          "base_uri": "https://localhost:8080/",
          "height": 204
        }
      },
      "source": [
        "test_df1.head()"
      ],
      "execution_count": 0,
      "outputs": [
        {
          "output_type": "execute_result",
          "data": {
            "text/html": [
              "<div>\n",
              "<style scoped>\n",
              "    .dataframe tbody tr th:only-of-type {\n",
              "        vertical-align: middle;\n",
              "    }\n",
              "\n",
              "    .dataframe tbody tr th {\n",
              "        vertical-align: top;\n",
              "    }\n",
              "\n",
              "    .dataframe thead th {\n",
              "        text-align: right;\n",
              "    }\n",
              "</style>\n",
              "<table border=\"1\" class=\"dataframe\">\n",
              "  <thead>\n",
              "    <tr style=\"text-align: right;\">\n",
              "      <th></th>\n",
              "      <th>link</th>\n",
              "    </tr>\n",
              "  </thead>\n",
              "  <tbody>\n",
              "    <tr>\n",
              "      <th>0</th>\n",
              "      <td>/gdrive/My Drive/chest_xray/test/PNEUMONIA/per...</td>\n",
              "    </tr>\n",
              "    <tr>\n",
              "      <th>1</th>\n",
              "      <td>/gdrive/My Drive/chest_xray/test/PNEUMONIA/per...</td>\n",
              "    </tr>\n",
              "    <tr>\n",
              "      <th>2</th>\n",
              "      <td>/gdrive/My Drive/chest_xray/test/PNEUMONIA/per...</td>\n",
              "    </tr>\n",
              "    <tr>\n",
              "      <th>3</th>\n",
              "      <td>/gdrive/My Drive/chest_xray/test/PNEUMONIA/per...</td>\n",
              "    </tr>\n",
              "    <tr>\n",
              "      <th>4</th>\n",
              "      <td>/gdrive/My Drive/chest_xray/test/PNEUMONIA/per...</td>\n",
              "    </tr>\n",
              "  </tbody>\n",
              "</table>\n",
              "</div>"
            ],
            "text/plain": [
              "                                                link\n",
              "0  /gdrive/My Drive/chest_xray/test/PNEUMONIA/per...\n",
              "1  /gdrive/My Drive/chest_xray/test/PNEUMONIA/per...\n",
              "2  /gdrive/My Drive/chest_xray/test/PNEUMONIA/per...\n",
              "3  /gdrive/My Drive/chest_xray/test/PNEUMONIA/per...\n",
              "4  /gdrive/My Drive/chest_xray/test/PNEUMONIA/per..."
            ]
          },
          "metadata": {
            "tags": []
          },
          "execution_count": 18
        }
      ]
    },
    {
      "cell_type": "code",
      "metadata": {
        "colab_type": "code",
        "id": "-UKEmRHEozyV",
        "colab": {}
      },
      "source": [
        "test_df['Label'] = 'Normal'\n",
        "test_df1['Label'] = 'Pneumonia'"
      ],
      "execution_count": 0,
      "outputs": []
    },
    {
      "cell_type": "code",
      "metadata": {
        "colab_type": "code",
        "outputId": "b77556ed-9ebb-456b-a1be-d95cec68bde0",
        "id": "L6sc_nzrozyZ",
        "colab": {
          "base_uri": "https://localhost:8080/",
          "height": 204
        }
      },
      "source": [
        "test_df.head()"
      ],
      "execution_count": 0,
      "outputs": [
        {
          "output_type": "execute_result",
          "data": {
            "text/html": [
              "<div>\n",
              "<style scoped>\n",
              "    .dataframe tbody tr th:only-of-type {\n",
              "        vertical-align: middle;\n",
              "    }\n",
              "\n",
              "    .dataframe tbody tr th {\n",
              "        vertical-align: top;\n",
              "    }\n",
              "\n",
              "    .dataframe thead th {\n",
              "        text-align: right;\n",
              "    }\n",
              "</style>\n",
              "<table border=\"1\" class=\"dataframe\">\n",
              "  <thead>\n",
              "    <tr style=\"text-align: right;\">\n",
              "      <th></th>\n",
              "      <th>link</th>\n",
              "      <th>Label</th>\n",
              "    </tr>\n",
              "  </thead>\n",
              "  <tbody>\n",
              "    <tr>\n",
              "      <th>0</th>\n",
              "      <td>/gdrive/My Drive/chest_xray/test/NORMAL/IM-003...</td>\n",
              "      <td>Normal</td>\n",
              "    </tr>\n",
              "    <tr>\n",
              "      <th>1</th>\n",
              "      <td>/gdrive/My Drive/chest_xray/test/NORMAL/NORMAL...</td>\n",
              "      <td>Normal</td>\n",
              "    </tr>\n",
              "    <tr>\n",
              "      <th>2</th>\n",
              "      <td>/gdrive/My Drive/chest_xray/test/NORMAL/NORMAL...</td>\n",
              "      <td>Normal</td>\n",
              "    </tr>\n",
              "    <tr>\n",
              "      <th>3</th>\n",
              "      <td>/gdrive/My Drive/chest_xray/test/NORMAL/NORMAL...</td>\n",
              "      <td>Normal</td>\n",
              "    </tr>\n",
              "    <tr>\n",
              "      <th>4</th>\n",
              "      <td>/gdrive/My Drive/chest_xray/test/NORMAL/NORMAL...</td>\n",
              "      <td>Normal</td>\n",
              "    </tr>\n",
              "  </tbody>\n",
              "</table>\n",
              "</div>"
            ],
            "text/plain": [
              "                                                link   Label\n",
              "0  /gdrive/My Drive/chest_xray/test/NORMAL/IM-003...  Normal\n",
              "1  /gdrive/My Drive/chest_xray/test/NORMAL/NORMAL...  Normal\n",
              "2  /gdrive/My Drive/chest_xray/test/NORMAL/NORMAL...  Normal\n",
              "3  /gdrive/My Drive/chest_xray/test/NORMAL/NORMAL...  Normal\n",
              "4  /gdrive/My Drive/chest_xray/test/NORMAL/NORMAL...  Normal"
            ]
          },
          "metadata": {
            "tags": []
          },
          "execution_count": 20
        }
      ]
    },
    {
      "cell_type": "code",
      "metadata": {
        "colab_type": "code",
        "outputId": "51acb5d0-d790-4488-b02f-fd33ad5f0004",
        "id": "8Hf9Axxyozyc",
        "colab": {
          "base_uri": "https://localhost:8080/",
          "height": 34
        }
      },
      "source": [
        "test_df.shape"
      ],
      "execution_count": 0,
      "outputs": [
        {
          "output_type": "execute_result",
          "data": {
            "text/plain": [
              "(234, 2)"
            ]
          },
          "metadata": {
            "tags": []
          },
          "execution_count": 21
        }
      ]
    },
    {
      "cell_type": "code",
      "metadata": {
        "colab_type": "code",
        "outputId": "37f8a93b-f6eb-4e80-828f-203bcfe60eb6",
        "id": "hhk3kI4Cozye",
        "colab": {
          "base_uri": "https://localhost:8080/",
          "height": 204
        }
      },
      "source": [
        "test_df1.head()"
      ],
      "execution_count": 0,
      "outputs": [
        {
          "output_type": "execute_result",
          "data": {
            "text/html": [
              "<div>\n",
              "<style scoped>\n",
              "    .dataframe tbody tr th:only-of-type {\n",
              "        vertical-align: middle;\n",
              "    }\n",
              "\n",
              "    .dataframe tbody tr th {\n",
              "        vertical-align: top;\n",
              "    }\n",
              "\n",
              "    .dataframe thead th {\n",
              "        text-align: right;\n",
              "    }\n",
              "</style>\n",
              "<table border=\"1\" class=\"dataframe\">\n",
              "  <thead>\n",
              "    <tr style=\"text-align: right;\">\n",
              "      <th></th>\n",
              "      <th>link</th>\n",
              "      <th>Label</th>\n",
              "    </tr>\n",
              "  </thead>\n",
              "  <tbody>\n",
              "    <tr>\n",
              "      <th>0</th>\n",
              "      <td>/gdrive/My Drive/chest_xray/test/PNEUMONIA/per...</td>\n",
              "      <td>Pneumonia</td>\n",
              "    </tr>\n",
              "    <tr>\n",
              "      <th>1</th>\n",
              "      <td>/gdrive/My Drive/chest_xray/test/PNEUMONIA/per...</td>\n",
              "      <td>Pneumonia</td>\n",
              "    </tr>\n",
              "    <tr>\n",
              "      <th>2</th>\n",
              "      <td>/gdrive/My Drive/chest_xray/test/PNEUMONIA/per...</td>\n",
              "      <td>Pneumonia</td>\n",
              "    </tr>\n",
              "    <tr>\n",
              "      <th>3</th>\n",
              "      <td>/gdrive/My Drive/chest_xray/test/PNEUMONIA/per...</td>\n",
              "      <td>Pneumonia</td>\n",
              "    </tr>\n",
              "    <tr>\n",
              "      <th>4</th>\n",
              "      <td>/gdrive/My Drive/chest_xray/test/PNEUMONIA/per...</td>\n",
              "      <td>Pneumonia</td>\n",
              "    </tr>\n",
              "  </tbody>\n",
              "</table>\n",
              "</div>"
            ],
            "text/plain": [
              "                                                link      Label\n",
              "0  /gdrive/My Drive/chest_xray/test/PNEUMONIA/per...  Pneumonia\n",
              "1  /gdrive/My Drive/chest_xray/test/PNEUMONIA/per...  Pneumonia\n",
              "2  /gdrive/My Drive/chest_xray/test/PNEUMONIA/per...  Pneumonia\n",
              "3  /gdrive/My Drive/chest_xray/test/PNEUMONIA/per...  Pneumonia\n",
              "4  /gdrive/My Drive/chest_xray/test/PNEUMONIA/per...  Pneumonia"
            ]
          },
          "metadata": {
            "tags": []
          },
          "execution_count": 22
        }
      ]
    },
    {
      "cell_type": "code",
      "metadata": {
        "colab_type": "code",
        "outputId": "7ba69337-b44c-4687-9662-4f3ad00e3ad7",
        "id": "dshD2s0Aozyg",
        "colab": {
          "base_uri": "https://localhost:8080/",
          "height": 34
        }
      },
      "source": [
        "test_df1.shape"
      ],
      "execution_count": 0,
      "outputs": [
        {
          "output_type": "execute_result",
          "data": {
            "text/plain": [
              "(390, 2)"
            ]
          },
          "metadata": {
            "tags": []
          },
          "execution_count": 23
        }
      ]
    },
    {
      "cell_type": "markdown",
      "metadata": {
        "colab_type": "text",
        "id": "c_uNSDtzpZwm"
      },
      "source": [
        "### Concat two dataframes "
      ]
    },
    {
      "cell_type": "code",
      "metadata": {
        "colab_type": "code",
        "id": "h9JmqkRXpZwp",
        "colab": {}
      },
      "source": [
        "testing_df = pd.concat([test_df,test_df1],axis=0)"
      ],
      "execution_count": 0,
      "outputs": []
    },
    {
      "cell_type": "code",
      "metadata": {
        "colab_type": "code",
        "outputId": "21797999-23e5-4227-bbfd-d3314c768a35",
        "id": "HNLmGncqpZwt",
        "colab": {
          "base_uri": "https://localhost:8080/",
          "height": 34
        }
      },
      "source": [
        "testing_df.shape"
      ],
      "execution_count": 0,
      "outputs": [
        {
          "output_type": "execute_result",
          "data": {
            "text/plain": [
              "(624, 2)"
            ]
          },
          "metadata": {
            "tags": []
          },
          "execution_count": 25
        }
      ]
    },
    {
      "cell_type": "markdown",
      "metadata": {
        "colab_type": "text",
        "id": "zD5ZWsiTqNr1"
      },
      "source": [
        "### Shuffle the dataframe"
      ]
    },
    {
      "cell_type": "code",
      "metadata": {
        "colab_type": "code",
        "outputId": "ba8d550d-1a1f-4f16-9a8d-89a3a43af98c",
        "id": "fjP6TwBNqNr4",
        "colab": {
          "base_uri": "https://localhost:8080/",
          "height": 204
        }
      },
      "source": [
        "testing_df = testing_df.sample(frac=1).reset_index(drop=True)\n",
        "testing_df.head()"
      ],
      "execution_count": 0,
      "outputs": [
        {
          "output_type": "execute_result",
          "data": {
            "text/html": [
              "<div>\n",
              "<style scoped>\n",
              "    .dataframe tbody tr th:only-of-type {\n",
              "        vertical-align: middle;\n",
              "    }\n",
              "\n",
              "    .dataframe tbody tr th {\n",
              "        vertical-align: top;\n",
              "    }\n",
              "\n",
              "    .dataframe thead th {\n",
              "        text-align: right;\n",
              "    }\n",
              "</style>\n",
              "<table border=\"1\" class=\"dataframe\">\n",
              "  <thead>\n",
              "    <tr style=\"text-align: right;\">\n",
              "      <th></th>\n",
              "      <th>link</th>\n",
              "      <th>Label</th>\n",
              "    </tr>\n",
              "  </thead>\n",
              "  <tbody>\n",
              "    <tr>\n",
              "      <th>0</th>\n",
              "      <td>/gdrive/My Drive/chest_xray/test/PNEUMONIA/per...</td>\n",
              "      <td>Pneumonia</td>\n",
              "    </tr>\n",
              "    <tr>\n",
              "      <th>1</th>\n",
              "      <td>/gdrive/My Drive/chest_xray/test/PNEUMONIA/per...</td>\n",
              "      <td>Pneumonia</td>\n",
              "    </tr>\n",
              "    <tr>\n",
              "      <th>2</th>\n",
              "      <td>/gdrive/My Drive/chest_xray/test/NORMAL/NORMAL...</td>\n",
              "      <td>Normal</td>\n",
              "    </tr>\n",
              "    <tr>\n",
              "      <th>3</th>\n",
              "      <td>/gdrive/My Drive/chest_xray/test/PNEUMONIA/per...</td>\n",
              "      <td>Pneumonia</td>\n",
              "    </tr>\n",
              "    <tr>\n",
              "      <th>4</th>\n",
              "      <td>/gdrive/My Drive/chest_xray/test/NORMAL/NORMAL...</td>\n",
              "      <td>Normal</td>\n",
              "    </tr>\n",
              "  </tbody>\n",
              "</table>\n",
              "</div>"
            ],
            "text/plain": [
              "                                                link      Label\n",
              "0  /gdrive/My Drive/chest_xray/test/PNEUMONIA/per...  Pneumonia\n",
              "1  /gdrive/My Drive/chest_xray/test/PNEUMONIA/per...  Pneumonia\n",
              "2  /gdrive/My Drive/chest_xray/test/NORMAL/NORMAL...     Normal\n",
              "3  /gdrive/My Drive/chest_xray/test/PNEUMONIA/per...  Pneumonia\n",
              "4  /gdrive/My Drive/chest_xray/test/NORMAL/NORMAL...     Normal"
            ]
          },
          "metadata": {
            "tags": []
          },
          "execution_count": 26
        }
      ]
    },
    {
      "cell_type": "markdown",
      "metadata": {
        "id": "GVu1OziUd-q2",
        "colab_type": "text"
      },
      "source": [
        "### Creating X and Y for Training and Testing"
      ]
    },
    {
      "cell_type": "code",
      "metadata": {
        "id": "oWlDvJ6keEGS",
        "colab_type": "code",
        "colab": {}
      },
      "source": [
        "train_output=[]\n",
        "for row_index,row in training_df[:2000].iterrows():\n",
        "            image_temp1 = cv2.imread(row.link)\n",
        "            image1 = cv2.resize(image_temp1, (150 , 150))\n",
        "            train_output.append(image1)  "
      ],
      "execution_count": 0,
      "outputs": []
    },
    {
      "cell_type": "code",
      "metadata": {
        "id": "H8LqZ_ZnsQcb",
        "colab_type": "code",
        "colab": {}
      },
      "source": [
        "x_train=np.asarray(train_output)"
      ],
      "execution_count": 0,
      "outputs": []
    },
    {
      "cell_type": "code",
      "metadata": {
        "id": "kTZJtJaCqBO2",
        "colab_type": "code",
        "outputId": "c46c2fa0-2a7d-4f18-afbd-5d4e1024dfd8",
        "colab": {
          "base_uri": "https://localhost:8080/",
          "height": 34
        }
      },
      "source": [
        "x_train.shape"
      ],
      "execution_count": 0,
      "outputs": [
        {
          "output_type": "execute_result",
          "data": {
            "text/plain": [
              "(2000, 150, 150, 3)"
            ]
          },
          "metadata": {
            "tags": []
          },
          "execution_count": 29
        }
      ]
    },
    {
      "cell_type": "code",
      "metadata": {
        "id": "EclSr3Z20FV1",
        "colab_type": "code",
        "outputId": "1997e9a3-0435-4531-eddb-0011cab523ca",
        "colab": {
          "base_uri": "https://localhost:8080/",
          "height": 269
        }
      },
      "source": [
        "%matplotlib inline\n",
        "import matplotlib.pyplot as plt\n",
        "for x in range(5) : \n",
        "        digit = x_train[x]\n",
        "        plt.imshow(digit)"
      ],
      "execution_count": 0,
      "outputs": [
        {
          "output_type": "display_data",
          "data": {
            "image/png": "[encoded data removed]",
            "text/plain": [
              "<Figure size 432x288 with 1 Axes>"
            ]
          },
          "metadata": {
            "tags": []
          }
        }
      ]
    },
    {
      "cell_type": "code",
      "metadata": {
        "id": "1G9Bi2iB4qT3",
        "colab_type": "code",
        "colab": {}
      },
      "source": [
        "test_output=[]\n",
        "for row_index,row in testing_df[:100].iterrows():\n",
        "            image_temp1 = cv2.imread(row.link)\n",
        "            image1 = cv2.resize(image_temp1, (150 , 150))\n",
        "            test_output.append(image1) "
      ],
      "execution_count": 0,
      "outputs": []
    },
    {
      "cell_type": "code",
      "metadata": {
        "id": "vZOv1RfV4xoi",
        "colab_type": "code",
        "colab": {}
      },
      "source": [
        "x_test=np.asarray(test_output)"
      ],
      "execution_count": 0,
      "outputs": []
    },
    {
      "cell_type": "code",
      "metadata": {
        "id": "hpsgchqb4382",
        "colab_type": "code",
        "outputId": "3c49b5b8-56ea-47d5-c474-9f8806713b91",
        "colab": {
          "base_uri": "https://localhost:8080/",
          "height": 34
        }
      },
      "source": [
        "x_test.shape"
      ],
      "execution_count": 0,
      "outputs": [
        {
          "output_type": "execute_result",
          "data": {
            "text/plain": [
              "(100, 150, 150, 3)"
            ]
          },
          "metadata": {
            "tags": []
          },
          "execution_count": 33
        }
      ]
    },
    {
      "cell_type": "code",
      "metadata": {
        "id": "ju_dYrKk47nS",
        "colab_type": "code",
        "colab": {}
      },
      "source": [
        "from sklearn.preprocessing import LabelEncoder\n",
        "encode = LabelEncoder()\n",
        "y_train = training_df[:2000]['Label'].values\n",
        "y_train= encode.fit_transform(y_train)"
      ],
      "execution_count": 0,
      "outputs": []
    },
    {
      "cell_type": "code",
      "metadata": {
        "id": "GZZvz_6K5Lw3",
        "colab_type": "code",
        "outputId": "aea95d66-9932-431e-cbae-b2d88beca913",
        "colab": {
          "base_uri": "https://localhost:8080/",
          "height": 34
        }
      },
      "source": [
        "y_train.shape"
      ],
      "execution_count": 0,
      "outputs": [
        {
          "output_type": "execute_result",
          "data": {
            "text/plain": [
              "(2000,)"
            ]
          },
          "metadata": {
            "tags": []
          },
          "execution_count": 35
        }
      ]
    },
    {
      "cell_type": "code",
      "metadata": {
        "id": "QcND67Gs5B8z",
        "colab_type": "code",
        "colab": {}
      },
      "source": [
        "y_test = testing_df[:100]['Label'].values\n",
        "y_test= encode.fit_transform(y_test)"
      ],
      "execution_count": 0,
      "outputs": []
    },
    {
      "cell_type": "code",
      "metadata": {
        "id": "stjK5n_95Q3H",
        "colab_type": "code",
        "colab": {}
      },
      "source": [
        "num_classes = 2\n",
        "y_train1 = keras.utils.to_categorical(y_train,num_classes)\n",
        "y_test1 = keras.utils.to_categorical(y_test,num_classes)"
      ],
      "execution_count": 0,
      "outputs": []
    },
    {
      "cell_type": "code",
      "metadata": {
        "id": "wsa5UlB55ehN",
        "colab_type": "code",
        "outputId": "2b3b5bb3-3f75-4883-86ea-b22bfde32704",
        "colab": {
          "base_uri": "https://localhost:8080/",
          "height": 34
        }
      },
      "source": [
        "y_train1.shape"
      ],
      "execution_count": 0,
      "outputs": [
        {
          "output_type": "execute_result",
          "data": {
            "text/plain": [
              "(2000, 2)"
            ]
          },
          "metadata": {
            "tags": []
          },
          "execution_count": 38
        }
      ]
    },
    {
      "cell_type": "code",
      "metadata": {
        "id": "mKviKPTz5hVK",
        "colab_type": "code",
        "outputId": "e6b97bb9-2dbc-4d92-cdf3-67d89ce48701",
        "colab": {
          "base_uri": "https://localhost:8080/",
          "height": 34
        }
      },
      "source": [
        "y_test1.shape"
      ],
      "execution_count": 0,
      "outputs": [
        {
          "output_type": "execute_result",
          "data": {
            "text/plain": [
              "(100, 2)"
            ]
          },
          "metadata": {
            "tags": []
          },
          "execution_count": 39
        }
      ]
    },
    {
      "cell_type": "markdown",
      "metadata": {
        "id": "85BUnzEk5nfy",
        "colab_type": "text"
      },
      "source": [
        "## Model Inception v3"
      ]
    },
    {
      "cell_type": "code",
      "metadata": {
        "id": "rKQCvrQu5jbU",
        "colab_type": "code",
        "colab": {}
      },
      "source": [
        "from keras.models import Model\n",
        "from keras.callbacks import ModelCheckpoint\n",
        "from keras import optimizers\n",
        "from sklearn import metrics\n",
        "from keras.layers import GlobalAveragePooling2D"
      ],
      "execution_count": 0,
      "outputs": []
    },
    {
      "cell_type": "code",
      "metadata": {
        "id": "XLGsj3du5p2B",
        "colab_type": "code",
        "outputId": "4caf67e2-b491-46ac-f736-a1808e8c124c",
        "colab": {
          "base_uri": "https://localhost:8080/",
          "height": 343
        }
      },
      "source": [
        "from keras.applications.inception_v3 import InceptionV3\n",
        "base_model = InceptionV3(weights='imagenet', include_top=False)"
      ],
      "execution_count": 0,
      "outputs": [
        {
          "output_type": "stream",
          "text": [
            "WARNING:tensorflow:From /usr/local/lib/python3.6/dist-packages/keras/backend/tensorflow_backend.py:66: The name tf.get_default_graph is deprecated. Please use tf.compat.v1.get_default_graph instead.\n",
            "\n",
            "WARNING:tensorflow:From /usr/local/lib/python3.6/dist-packages/keras/backend/tensorflow_backend.py:541: The name tf.placeholder is deprecated. Please use tf.compat.v1.placeholder instead.\n",
            "\n",
            "WARNING:tensorflow:From /usr/local/lib/python3.6/dist-packages/keras/backend/tensorflow_backend.py:4432: The name tf.random_uniform is deprecated. Please use tf.random.uniform instead.\n",
            "\n",
            "WARNING:tensorflow:From /usr/local/lib/python3.6/dist-packages/keras/backend/tensorflow_backend.py:190: The name tf.get_default_session is deprecated. Please use tf.compat.v1.get_default_session instead.\n",
            "\n",
            "WARNING:tensorflow:From /usr/local/lib/python3.6/dist-packages/keras/backend/tensorflow_backend.py:197: The name tf.ConfigProto is deprecated. Please use tf.compat.v1.ConfigProto instead.\n",
            "\n",
            "WARNING:tensorflow:From /usr/local/lib/python3.6/dist-packages/keras/backend/tensorflow_backend.py:2041: The name tf.nn.fused_batch_norm is deprecated. Please use tf.compat.v1.nn.fused_batch_norm instead.\n",
            "\n",
            "WARNING:tensorflow:From /usr/local/lib/python3.6/dist-packages/keras/backend/tensorflow_backend.py:4267: The name tf.nn.max_pool is deprecated. Please use tf.nn.max_pool2d instead.\n",
            "\n",
            "WARNING:tensorflow:From /usr/local/lib/python3.6/dist-packages/keras/backend/tensorflow_backend.py:4271: The name tf.nn.avg_pool is deprecated. Please use tf.nn.avg_pool2d instead.\n",
            "\n",
            "Downloading data from https://github.com/fchollet/deep-learning-models/releases/download/v0.5/inception_v3_weights_tf_dim_ordering_tf_kernels_notop.h5\n",
            "87916544/87910968 [==============================] - 2s 0us/step\n"
          ],
          "name": "stdout"
        }
      ]
    },
    {
      "cell_type": "code",
      "metadata": {
        "id": "V_cmxLUN5rpZ",
        "colab_type": "code",
        "colab": {}
      },
      "source": [
        "base_model = InceptionV3(weights='imagenet', include_top=False)"
      ],
      "execution_count": 0,
      "outputs": []
    },
    {
      "cell_type": "code",
      "metadata": {
        "id": "gD2CYqeYRhyf",
        "colab_type": "code",
        "colab": {}
      },
      "source": [
        "from keras.layers import Dense, Flatten, Dropout, AveragePooling2D\n",
        "from keras.models import Model\n",
        "\n",
        "trainable_model = base_model.output\n",
        "trainable_model = GlobalAveragePooling2D() (trainable_model)\n",
        "trainable_model = Dense(128, activation='relu') (trainable_model)\n",
        "trainable_model = Dropout(0.5) (trainable_model)\n",
        "trainable_model = Dense(2, activation='softmax') (trainable_model)"
      ],
      "execution_count": 0,
      "outputs": []
    },
    {
      "cell_type": "code",
      "metadata": {
        "id": "QJcn_cVsRylM",
        "colab_type": "code",
        "colab": {}
      },
      "source": [
        "model = Model(inputs=base_model.inputs, outputs = trainable_model)\n",
        "\n",
        "for layer in base_model.layers:\n",
        "    layer.trainable = False"
      ],
      "execution_count": 0,
      "outputs": []
    },
    {
      "cell_type": "code",
      "metadata": {
        "id": "Gg5DLayU5-2x",
        "colab_type": "code",
        "outputId": "7346897b-fc61-4a08-fbe3-2a05d8d7718a",
        "colab": {
          "base_uri": "https://localhost:8080/",
          "height": 68
        }
      },
      "source": [
        "model.compile(loss=\"categorical_crossentropy\", optimizer='adam')\n",
        "model.fit(x_train, y_train1,epochs=1)"
      ],
      "execution_count": 0,
      "outputs": [
        {
          "output_type": "stream",
          "text": [
            "Epoch 1/1\n",
            "2000/2000 [==============================] - 118s 59ms/step - loss: 0.4660\n"
          ],
          "name": "stdout"
        },
        {
          "output_type": "execute_result",
          "data": {
            "text/plain": [
              "<keras.callbacks.History at 0x7f01893c6080>"
            ]
          },
          "metadata": {
            "tags": []
          },
          "execution_count": 85
        }
      ]
    },
    {
      "cell_type": "code",
      "metadata": {
        "id": "AK7fsxJ65-mX",
        "colab_type": "code",
        "colab": {}
      },
      "source": [
        "pred = model.predict(x_test)\n",
        "pred = np.argmax(pred,axis=1)"
      ],
      "execution_count": 0,
      "outputs": []
    },
    {
      "cell_type": "code",
      "metadata": {
        "id": "RDh2NLUR6Lk8",
        "colab_type": "code",
        "outputId": "ab748ef7-a52a-46fc-feb6-cb7f86204261",
        "colab": {
          "base_uri": "https://localhost:8080/",
          "height": 51
        }
      },
      "source": [
        "y_true= np.argmax(y_test1,axis=1) \n",
        "score_c = metrics.accuracy_score(y_true, pred)\n",
        "print(\"Accuracy score: {}\".format(score_c))\n",
        "\n",
        "score_tf_f1_stopping = metrics.f1_score(y_true, pred)\n",
        "print(\"F1 score: {}\".format(score_tf_f1_stopping))\n"
      ],
      "execution_count": 0,
      "outputs": [
        {
          "output_type": "stream",
          "text": [
            "Accuracy score: 0.59\n",
            "F1 score: 0.7421383647798743\n"
          ],
          "name": "stdout"
        }
      ]
    },
    {
      "cell_type": "code",
      "metadata": {
        "id": "kJCYIHXgTSy2",
        "colab_type": "code",
        "colab": {}
      },
      "source": [
        ""
      ],
      "execution_count": 0,
      "outputs": []
    },
    {
      "cell_type": "markdown",
      "metadata": {
        "id": "Yvb6vS8zUl5V",
        "colab_type": "text"
      },
      "source": [
        "## Final F1 score achieved is 0.74 for 100 Test cases. Model trained on 2000 images.  "
      ]
    }
  ]
}